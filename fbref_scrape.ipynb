{
 "cells": [
  {
   "cell_type": "code",
   "execution_count": 2,
   "metadata": {},
   "outputs": [],
   "source": [
    "import numpy as np\n",
    "import pandas as pd\n",
    "import re\n",
    "import requests\n",
    "from bs4 import BeautifulSoup\n",
    "import json\n",
    "import html\n",
    "\n",
    "\n",
    "\n",
    "yillar = list(range(2023, 2018, -1))\n",
    "tum_maclar = []\n",
    "\n",
    "##Buraya istediğin bir ligi koyabilirsin.Tek yapman gereken FBref sitesinden ilgili ligin \n",
    "#puan tablosunun bulunduğu linki kopyalamak.GOl beklentisi geçmiş yıllar için olmayabilir, buna dikkat et!\n",
    "hedef_url = \"https://fbref.com/en/comps/22/Major-League-Soccer-Stats\"\n",
    "import time\n",
    "for yil in yillar:\n",
    "    data = requests.get(hedef_url)\n",
    "    soup = BeautifulSoup(data.text)\n",
    "    tablo = soup.select('table.stats_table')[0]\n",
    "    linkler = [l.get(\"href\") for l in tablo.find_all('a')]\n",
    "    linkler = [l for l in linkler if '/squads/' in l]\n",
    "    takim_urlleri = [f\"https://fbref.com{l}\" for l in linkler]\n",
    "    onceki_sezon = soup.select(\"a.prev\")[0].get(\"href\")\n",
    "    hedef_url = f\"https://fbref.com{onceki_sezon}\"\n",
    "    for takim_url in takim_urlleri:\n",
    "        team_name = takim_url.split(\"/\")[-1].replace(\"-Stats\", \"\").replace(\"-\", \" \")\n",
    "        data = requests.get(takim_url)\n",
    "        maclar = pd.read_html(data.text, match=\"Scores & Fixtures\")[0]\n",
    "        soup = BeautifulSoup(data.text)\n",
    "        linkler = [l.get(\"href\") for l in soup.find_all('a')]\n",
    "        linkler = [l for l in linkler if l and 'all_comps/shooting/' in l]\n",
    "        data = requests.get(f\"https://fbref.com{linkler[0]}\")\n",
    "        sut= pd.read_html(data.text, match=\"Shooting\")[0]\n",
    "        sut.columns = sut.columns.droplevel()\n",
    "    \n",
    "        try:\n",
    "            takim_verisi = maclar.merge(sut[[\"Date\",\"SoT%\",\"Dist\"]], on=\"Date\")\n",
    "        except ValueError:\n",
    "            continue\n",
    "        \n",
    "        # takim_verisi =takim_verisi[takim_verisi[\"Comp\"] == \"Premier League\"]\n",
    "        takim_verisi[\"Season\"] = yil\n",
    "        takim_verisi[\"Team\"] = team_name\n",
    "        tum_maclar.append(takim_verisi)\n",
    "    \n",
    "        time.sleep(5)"
   ]
  },
  {
   "cell_type": "code",
   "execution_count": null,
   "metadata": {},
   "outputs": [],
   "source": [
    "\n",
    "match_df = pd.concat(tum_maclar)\n",
    "match_df.columns = [c.lower() for c in match_df.columns]\n",
    "match_df.to_csv(\"match_data.csv\")"
   ]
  },
  {
   "cell_type": "code",
   "execution_count": 12,
   "metadata": {},
   "outputs": [],
   "source": [
    "\n",
    "# # match_df = pd.concat(tum_maclar)\n",
    "# # match_df.columns = [c.lower() for c in match_df.columns]\n",
    "# # match_df.to_csv(\"match_data.csv\")"
   ]
  },
  {
   "attachments": {},
   "cell_type": "markdown",
   "metadata": {},
   "source": []
  },
  {
   "attachments": {},
   "cell_type": "markdown",
   "metadata": {},
   "source": []
  }
 ],
 "metadata": {
  "kernelspec": {
   "display_name": "base",
   "language": "python",
   "name": "python3"
  },
  "language_info": {
   "codemirror_mode": {
    "name": "ipython",
    "version": 3
   },
   "file_extension": ".py",
   "mimetype": "text/x-python",
   "name": "python",
   "nbconvert_exporter": "python",
   "pygments_lexer": "ipython3",
   "version": "3.9.16"
  },
  "orig_nbformat": 4
 },
 "nbformat": 4,
 "nbformat_minor": 2
}
